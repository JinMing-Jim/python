{
 "cells": [
  {
   "cell_type": "code",
   "execution_count": null,
   "metadata": {},
   "outputs": [],
   "source": [
    "#Python学习笔记\n",
    "\n",
    "#思维导图\n",
    "\n",
    "#https://www.processon.com/mindmap/6669018e0d53821802b910e2"
   ]
  },
  {
   "cell_type": "code",
   "execution_count": null,
   "metadata": {},
   "outputs": [
    {
     "name": "stdout",
     "output_type": "stream",
     "text": [
      "False\n",
      "None\n",
      "True\n",
      "and\n",
      "as\n",
      "assert\n",
      "async\n",
      "await\n",
      "break\n",
      "class\n",
      "continue\n",
      "def\n",
      "del\n",
      "elif\n",
      "else\n",
      "except\n",
      "finally\n",
      "for\n",
      "from\n",
      "global\n",
      "if\n",
      "import\n",
      "in\n",
      "is\n",
      "lambda\n",
      "nonlocal\n",
      "not\n",
      "or\n",
      "pass\n",
      "raise\n",
      "return\n",
      "try\n",
      "while\n",
      "with\n",
      "yield\n"
     ]
    }
   ],
   "source": [
    "#Python keyword\n",
    "\n",
    "import keyword\n",
    "for each in keyword.kwlist:\n",
    "    print(each)"
   ]
  },
  {
   "cell_type": "markdown",
   "metadata": {},
   "source": [
    "#Python keyword list\n",
    "\n",
    "False\n",
    "True\n",
    "\n",
    "if\n",
    "elif\n",
    "else\n",
    "\n",
    "while\n",
    "for\n",
    "\n",
    "break\n",
    "continue\n",
    "\n",
    "and\n",
    "or\n",
    "not\n",
    "\n",
    "import\n",
    "\n",
    "assert\n",
    "try\n",
    "except\n",
    "\n",
    "pass\n",
    "raise\n",
    "await\n",
    "async\n",
    "\n",
    "\n",
    "def\n",
    "global\n",
    "from\n",
    "with\n",
    "in\n",
    "is\n",
    "as\n",
    "\n",
    "None\n",
    "nonlocal\n",
    "\n",
    "del\n",
    "\n",
    "return\n",
    "\n",
    "class\n",
    "\n",
    "finally\n",
    "\n",
    "lambda\n",
    "yield\n"
   ]
  },
  {
   "cell_type": "markdown",
   "metadata": {},
   "source": [
    "#python keyword\n",
    "\n",
    "False\n",
    "True\n",
    "\n",
    "if\n",
    "elif\n",
    "else\n",
    "\n",
    "while\n",
    "for\n",
    "\n",
    "break\n",
    "continue\n",
    "\n",
    "and\n",
    "or\n",
    "not\n",
    "\n",
    "import\n",
    "\n",
    "assert\n",
    "try\n",
    "except\n",
    "\n",
    "pass\n",
    "raise\n",
    "await\n",
    "async\n",
    "\n",
    "\n",
    "def\n",
    "global\n",
    "from\n",
    "with\n",
    "in\n",
    "is\n",
    "as\n",
    "\n",
    "None\n",
    "nonlocal\n",
    "\n",
    "del\n",
    "\n",
    "return\n",
    "\n",
    "class\n",
    "\n",
    "finally\n",
    "\n",
    "lambda\n",
    "yield\n"
   ]
  },
  {
   "cell_type": "code",
   "execution_count": 68,
   "metadata": {},
   "outputs": [
    {
     "ename": "KeyboardInterrupt",
     "evalue": "Interrupted by user",
     "output_type": "error",
     "traceback": [
      "\u001b[1;31m---------------------------------------------------------------------------\u001b[0m",
      "\u001b[1;31mKeyboardInterrupt\u001b[0m                         Traceback (most recent call last)",
      "Cell \u001b[1;32mIn[68], line 9\u001b[0m\n\u001b[0;32m      1\u001b[0m \u001b[38;5;124;03m\"\"\"\u001b[39;00m\n\u001b[0;32m      2\u001b[0m \u001b[38;5;124;03m编写一个成绩评级程序，要求用户输入分数，程序返回对应的评级\u001b[39;00m\n\u001b[0;32m      3\u001b[0m \u001b[38;5;124;03m - 分数 < 60，D\u001b[39;00m\n\u001b[1;32m   (...)\u001b[0m\n\u001b[0;32m      7\u001b[0m \u001b[38;5;124;03m - 分数 == 100，S\u001b[39;00m\n\u001b[0;32m      8\u001b[0m \u001b[38;5;124;03m\"\"\"\u001b[39;00m\n\u001b[1;32m----> 9\u001b[0m score \u001b[38;5;241m=\u001b[39m \u001b[38;5;28mint\u001b[39m(\u001b[38;5;28;43minput\u001b[39;49m\u001b[43m(\u001b[49m\u001b[38;5;124;43m\"\u001b[39;49m\u001b[38;5;124;43m请输入分数：\u001b[39;49m\u001b[38;5;124;43m\"\u001b[39;49m\u001b[43m)\u001b[49m)\n\u001b[0;32m     11\u001b[0m \u001b[38;5;28;01mif\u001b[39;00m score \u001b[38;5;241m<\u001b[39m \u001b[38;5;241m60\u001b[39m:\n\u001b[0;32m     12\u001b[0m     \u001b[38;5;28mprint\u001b[39m(\u001b[38;5;124m\"\u001b[39m\u001b[38;5;124mD\u001b[39m\u001b[38;5;124m\"\u001b[39m)\n",
      "File \u001b[1;32m~\\AppData\\Roaming\\Python\\Python312\\site-packages\\ipykernel\\kernelbase.py:1282\u001b[0m, in \u001b[0;36mKernel.raw_input\u001b[1;34m(self, prompt)\u001b[0m\n\u001b[0;32m   1280\u001b[0m     msg \u001b[38;5;241m=\u001b[39m \u001b[38;5;124m\"\u001b[39m\u001b[38;5;124mraw_input was called, but this frontend does not support input requests.\u001b[39m\u001b[38;5;124m\"\u001b[39m\n\u001b[0;32m   1281\u001b[0m     \u001b[38;5;28;01mraise\u001b[39;00m StdinNotImplementedError(msg)\n\u001b[1;32m-> 1282\u001b[0m \u001b[38;5;28;01mreturn\u001b[39;00m \u001b[38;5;28;43mself\u001b[39;49m\u001b[38;5;241;43m.\u001b[39;49m\u001b[43m_input_request\u001b[49m\u001b[43m(\u001b[49m\n\u001b[0;32m   1283\u001b[0m \u001b[43m    \u001b[49m\u001b[38;5;28;43mstr\u001b[39;49m\u001b[43m(\u001b[49m\u001b[43mprompt\u001b[49m\u001b[43m)\u001b[49m\u001b[43m,\u001b[49m\n\u001b[0;32m   1284\u001b[0m \u001b[43m    \u001b[49m\u001b[38;5;28;43mself\u001b[39;49m\u001b[38;5;241;43m.\u001b[39;49m\u001b[43m_parent_ident\u001b[49m\u001b[43m[\u001b[49m\u001b[38;5;124;43m\"\u001b[39;49m\u001b[38;5;124;43mshell\u001b[39;49m\u001b[38;5;124;43m\"\u001b[39;49m\u001b[43m]\u001b[49m\u001b[43m,\u001b[49m\n\u001b[0;32m   1285\u001b[0m \u001b[43m    \u001b[49m\u001b[38;5;28;43mself\u001b[39;49m\u001b[38;5;241;43m.\u001b[39;49m\u001b[43mget_parent\u001b[49m\u001b[43m(\u001b[49m\u001b[38;5;124;43m\"\u001b[39;49m\u001b[38;5;124;43mshell\u001b[39;49m\u001b[38;5;124;43m\"\u001b[39;49m\u001b[43m)\u001b[49m\u001b[43m,\u001b[49m\n\u001b[0;32m   1286\u001b[0m \u001b[43m    \u001b[49m\u001b[43mpassword\u001b[49m\u001b[38;5;241;43m=\u001b[39;49m\u001b[38;5;28;43;01mFalse\u001b[39;49;00m\u001b[43m,\u001b[49m\n\u001b[0;32m   1287\u001b[0m \u001b[43m\u001b[49m\u001b[43m)\u001b[49m\n",
      "File \u001b[1;32m~\\AppData\\Roaming\\Python\\Python312\\site-packages\\ipykernel\\kernelbase.py:1325\u001b[0m, in \u001b[0;36mKernel._input_request\u001b[1;34m(self, prompt, ident, parent, password)\u001b[0m\n\u001b[0;32m   1322\u001b[0m \u001b[38;5;28;01mexcept\u001b[39;00m \u001b[38;5;167;01mKeyboardInterrupt\u001b[39;00m:\n\u001b[0;32m   1323\u001b[0m     \u001b[38;5;66;03m# re-raise KeyboardInterrupt, to truncate traceback\u001b[39;00m\n\u001b[0;32m   1324\u001b[0m     msg \u001b[38;5;241m=\u001b[39m \u001b[38;5;124m\"\u001b[39m\u001b[38;5;124mInterrupted by user\u001b[39m\u001b[38;5;124m\"\u001b[39m\n\u001b[1;32m-> 1325\u001b[0m     \u001b[38;5;28;01mraise\u001b[39;00m \u001b[38;5;167;01mKeyboardInterrupt\u001b[39;00m(msg) \u001b[38;5;28;01mfrom\u001b[39;00m \u001b[38;5;28;01mNone\u001b[39;00m\n\u001b[0;32m   1326\u001b[0m \u001b[38;5;28;01mexcept\u001b[39;00m \u001b[38;5;167;01mException\u001b[39;00m:\n\u001b[0;32m   1327\u001b[0m     \u001b[38;5;28mself\u001b[39m\u001b[38;5;241m.\u001b[39mlog\u001b[38;5;241m.\u001b[39mwarning(\u001b[38;5;124m\"\u001b[39m\u001b[38;5;124mInvalid Message:\u001b[39m\u001b[38;5;124m\"\u001b[39m, exc_info\u001b[38;5;241m=\u001b[39m\u001b[38;5;28;01mTrue\u001b[39;00m)\n",
      "\u001b[1;31mKeyboardInterrupt\u001b[0m: Interrupted by user"
     ]
    }
   ],
   "source": [
    "\"\"\"\n",
    "编写一个成绩评级程序，要求用户输入分数，程序返回对应的评级\n",
    " - 分数 < 60，D\n",
    " - 60 <= 分数 < 80，C\n",
    " - 80 <= 分数 < 90，B\n",
    " - 90 <= 分数 < 100，A\n",
    " - 分数 == 100，S\n",
    "\"\"\"\n",
    "score = int(input(\"请输入分数：\"))\n",
    "\n",
    "if score < 60:\n",
    "    print(\"D\")\n",
    "elif 60 <= score < 80:\n",
    "    print(\"C\")\n",
    "elif 80 <= score < 90:\n",
    "    print(\"B\")\n",
    "elif 90 <=score < 100:\n",
    "    print(\"A\")\n",
    "elif score == 100:\n",
    "    print(\"S\")\n",
    "else:\n",
    "    print(\"输入错误！\")"
   ]
  },
  {
   "cell_type": "code",
   "execution_count": null,
   "metadata": {},
   "outputs": [
    {
     "name": "stdout",
     "output_type": "stream",
     "text": [
      "18446744073709551615\n"
     ]
    }
   ],
   "source": [
    "\"\"\"\n",
    "<<舍罕王的失算>>\n",
    "相传国际象棋是古印度舍罕王的宰相达依尔发明的。\n",
    "舍罕王十分喜爱国际象棋，便决定让宰相自己选择何种赏赐。\n",
    "这位聪明的宰相指着 8×8 共 64 格的象棋棋盘说：陛下，请您赏给我一些麦子吧。\n",
    "就在棋盘的第 1 格中放 1 粒，第 2 格放 2 粒，第 3 格放 4 粒，\n",
    "以后每一格都比前一格增加一倍，依此放完棋盘上 64 格，我就感激不尽了……\n",
    "舍罕王听了达依尔这个“小小”的要求，便让人扛来一袋麦子，他要兑现许诺。\n",
    "结果，在给达依尔发放麦子时，舍罕王发现他要给达依尔的麦子比自己想象的要多得多，\n",
    "一袋麦子是远远不够的……\n",
    "\n",
    "请编程计算舍罕王应该给达依尔多少粒麦子？\n",
    "\"\"\"\n",
    "\n",
    "sum = 0\n",
    "\n",
    "for i in range(1,8*8+1):\n",
    "    sum += pow(2,i-1)\n",
    "print(sum)\n"
   ]
  },
  {
   "cell_type": "code",
   "execution_count": null,
   "metadata": {},
   "outputs": [
    {
     "name": "stdout",
     "output_type": "stream",
     "text": [
      "5050\n"
     ]
    }
   ],
   "source": [
    "#求和1+2+3+...+100\n",
    "sum = 0\n",
    "for i in range(1,101):\n",
    "    sum += i\n",
    "print(sum)"
   ]
  },
  {
   "cell_type": "code",
   "execution_count": null,
   "metadata": {},
   "outputs": [
    {
     "name": "stdout",
     "output_type": "stream",
     "text": [
      "1 * 1 = 1\t\n",
      "1 * 2 = 2\t2 * 2 = 4\t\n",
      "1 * 3 = 3\t2 * 3 = 6\t3 * 3 = 9\t\n",
      "1 * 4 = 4\t2 * 4 = 8\t3 * 4 = 12\t4 * 4 = 16\t\n",
      "1 * 5 = 5\t2 * 5 = 10\t3 * 5 = 15\t4 * 5 = 20\t5 * 5 = 25\t\n",
      "1 * 6 = 6\t2 * 6 = 12\t3 * 6 = 18\t4 * 6 = 24\t5 * 6 = 30\t6 * 6 = 36\t\n",
      "1 * 7 = 7\t2 * 7 = 14\t3 * 7 = 21\t4 * 7 = 28\t5 * 7 = 35\t6 * 7 = 42\t7 * 7 = 49\t\n",
      "1 * 8 = 8\t2 * 8 = 16\t3 * 8 = 24\t4 * 8 = 32\t5 * 8 = 40\t6 * 8 = 48\t7 * 8 = 56\t8 * 8 = 64\t\n",
      "1 * 9 = 9\t2 * 9 = 18\t3 * 9 = 27\t4 * 9 = 36\t5 * 9 = 45\t6 * 9 = 54\t7 * 9 = 63\t8 * 9 = 72\t9 * 9 = 81\t\n"
     ]
    }
   ],
   "source": [
    "#打印九九乘法口诀表\n",
    "for i in range(1,10):\n",
    "    for j in range(1,i+1):\n",
    "        print(j,\"*\",i,\"=\",j*i,end=\"\\t\")\n",
    "    print()"
   ]
  },
  {
   "cell_type": "code",
   "execution_count": null,
   "metadata": {},
   "outputs": [
    {
     "name": "stdout",
     "output_type": "stream",
     "text": [
      "2 3 5 7 11 13 17 19 23 29 31 37 41 43 47 53 59 61 67 71 73 79 83 89 97 "
     ]
    }
   ],
   "source": [
    "#求100以内质数\n",
    "\n",
    "\n",
    "for num in range(2,100):\n",
    "    for i in range(2,num):\n",
    "        if num % i == 0:\n",
    "            break\n",
    "    else:\n",
    "        print(num,end=\" \")\n",
    "\n",
    "\n"
   ]
  },
  {
   "cell_type": "code",
   "execution_count": null,
   "metadata": {},
   "outputs": [
    {
     "name": "stdout",
     "output_type": "stream",
     "text": [
      "[[1, 2, 3], [4, 5, 6], [7, 8, 9]]\n",
      "[[1, 2, 3], [4, 5, 6], [7, 8, 9]]\n",
      "[[1, 2, 3], [4, 100, 6], [7, 8, 9]]\n",
      "[[1, 2, 3], [4, 100, 6], [7, 8, 9]]\n"
     ]
    }
   ],
   "source": [
    "#1)引用\n",
    "a = [[1,2,3],[4,5,6],[7,8,9]]\n",
    "b = a\n",
    "print(a)\n",
    "print(b)\n",
    "\n",
    "a[1][1] = 100\n",
    "\n",
    "print(a)\n",
    "print(b)"
   ]
  },
  {
   "cell_type": "code",
   "execution_count": null,
   "metadata": {},
   "outputs": [
    {
     "name": "stdout",
     "output_type": "stream",
     "text": [
      "[[1, 2, 3], [4, 5, 6], [7, 8, 9]]\n",
      "[[1, 2, 3], [4, 5, 6], [7, 8, 9]]\n",
      "[[1, 2, 3], [4, 100, 6], [7, 8, 9]]\n",
      "[[1, 2, 3], [4, 100, 6], [7, 8, 9]]\n"
     ]
    }
   ],
   "source": [
    "#2)浅拷贝Copy\n",
    "a = [[1,2,3],[4,5,6],[7,8,9]]\n",
    "b = a.copy()\n",
    "print(a)\n",
    "print(b)\n",
    "\n",
    "a[1][1] = 100\n",
    "\n",
    "print(a)\n",
    "print(b)\n"
   ]
  },
  {
   "cell_type": "code",
   "execution_count": null,
   "metadata": {},
   "outputs": [
    {
     "name": "stdout",
     "output_type": "stream",
     "text": [
      "[[1, 2, 3], [4, 5, 6], [7, 8, 9]]\n",
      "[[1, 2, 3], [4, 5, 6], [7, 8, 9]]\n",
      "[[1, 2, 3], [4, 100, 6], [7, 8, 9]]\n",
      "[[1, 2, 3], [4, 100, 6], [7, 8, 9]]\n"
     ]
    }
   ],
   "source": [
    "#3)Copy模块 - 浅拷贝 - shallow copy\n",
    "import copy\n",
    "a = [[1,2,3],[4,5,6],[7,8,9]]\n",
    "b = copy.copy(a)\n",
    "print(a)\n",
    "print(b)\n",
    "\n",
    "a[1][1] = 100\n",
    "\n",
    "print(a)\n",
    "print(b)"
   ]
  },
  {
   "cell_type": "code",
   "execution_count": null,
   "metadata": {},
   "outputs": [
    {
     "name": "stdout",
     "output_type": "stream",
     "text": [
      "[[1, 2, 3], [4, 5, 6], [7, 8, 9]]\n",
      "[[1, 2, 3], [4, 5, 6], [7, 8, 9]]\n",
      "[[1, 2, 3], [4, 100, 6], [7, 8, 9]]\n",
      "[[1, 2, 3], [4, 5, 6], [7, 8, 9]]\n"
     ]
    }
   ],
   "source": [
    "#4)Copy模块 - 深拷贝 - deep copy\n",
    "import copy\n",
    "a = [[1,2,3],[4,5,6],[7,8,9]]\n",
    "b = copy.deepcopy(a)\n",
    "print(a)\n",
    "print(b)\n",
    "\n",
    "a[1][1] = 100\n",
    "\n",
    "print(a)\n",
    "print(b)"
   ]
  },
  {
   "cell_type": "markdown",
   "metadata": {},
   "source": [
    "#BIF函数"
   ]
  },
  {
   "cell_type": "code",
   "execution_count": 76,
   "metadata": {},
   "outputs": [
    {
     "data": {
      "text/plain": [
       "70"
      ]
     },
     "execution_count": 76,
     "metadata": {},
     "output_type": "execute_result"
    }
   ],
   "source": [
    "ord(\"F\")  #ord() 用于将指定的单个字符串转换成对应的 Unicode 编码。"
   ]
  },
  {
   "cell_type": "code",
   "execution_count": 78,
   "metadata": {},
   "outputs": [
    {
     "data": {
      "text/plain": [
       "'F'"
      ]
     },
     "execution_count": 78,
     "metadata": {},
     "output_type": "execute_result"
    }
   ],
   "source": [
    "chr(70)   #chr() 用于将指定的 Unicode 编码转换成对应的字符。"
   ]
  },
  {
   "cell_type": "code",
   "execution_count": 101,
   "metadata": {},
   "outputs": [
    {
     "data": {
      "text/plain": [
       "[[0, 2], [1, 3], [2, 4], [3, 5], [4, 6], [5, 7]]"
      ]
     },
     "execution_count": 101,
     "metadata": {},
     "output_type": "execute_result"
    }
   ],
   "source": [
    "#列表推导式\n",
    "#list = [expression for item in iterable if condition]\n",
    "#list(range(0,10))\n",
    "\n",
    "#[pow(i,2) for i in list(range(1,7))]\n",
    "\n",
    "[[i,i+2] for i in range(0,6)]"
   ]
  },
  {
   "cell_type": "code",
   "execution_count": 23,
   "metadata": {},
   "outputs": [
    {
     "data": {
      "text/plain": [
       "21"
      ]
     },
     "execution_count": 23,
     "metadata": {},
     "output_type": "execute_result"
    }
   ],
   "source": [
    "import random\n",
    "random.choice(range(100))"
   ]
  },
  {
   "cell_type": "code",
   "execution_count": 24,
   "metadata": {},
   "outputs": [
    {
     "data": {
      "text/plain": [
       "['__add__',\n",
       " '__class__',\n",
       " '__class_getitem__',\n",
       " '__contains__',\n",
       " '__delattr__',\n",
       " '__delitem__',\n",
       " '__dir__',\n",
       " '__doc__',\n",
       " '__eq__',\n",
       " '__format__',\n",
       " '__ge__',\n",
       " '__getattribute__',\n",
       " '__getitem__',\n",
       " '__getstate__',\n",
       " '__gt__',\n",
       " '__hash__',\n",
       " '__iadd__',\n",
       " '__imul__',\n",
       " '__init__',\n",
       " '__init_subclass__',\n",
       " '__iter__',\n",
       " '__le__',\n",
       " '__len__',\n",
       " '__lt__',\n",
       " '__mul__',\n",
       " '__ne__',\n",
       " '__new__',\n",
       " '__reduce__',\n",
       " '__reduce_ex__',\n",
       " '__repr__',\n",
       " '__reversed__',\n",
       " '__rmul__',\n",
       " '__setattr__',\n",
       " '__setitem__',\n",
       " '__sizeof__',\n",
       " '__str__',\n",
       " '__subclasshook__',\n",
       " 'append',\n",
       " 'clear',\n",
       " 'copy',\n",
       " 'count',\n",
       " 'extend',\n",
       " 'index',\n",
       " 'insert',\n",
       " 'pop',\n",
       " 'remove',\n",
       " 'reverse',\n",
       " 'sort']"
      ]
     },
     "execution_count": 24,
     "metadata": {},
     "output_type": "execute_result"
    }
   ],
   "source": [
    "dir(list)"
   ]
  },
  {
   "cell_type": "code",
   "execution_count": null,
   "metadata": {},
   "outputs": [],
   "source": [
    "#列表list\n",
    "#https://www.processon.com/mindmap/6669018e0d53821802b910e2\n",
    "\n",
    "\n",
    "#创建一个新的空列表\n",
    "list1 = []\n",
    "print(list1)\n",
    "\n",
    "#创建一个新的列表\n",
    "list1 = [1,2,3,4,5]\n",
    "print(list1)\n",
    "\n",
    "#元组转换列表\n",
    "list1 = list((\"a\",\"b\",\"c\",\"d\"))\n",
    "print(list1)\n",
    "\n",
    "list1 = list(range(0,10))\n",
    "print(list1)\n",
    "\n",
    "#添加列表\n",
    "list1 = []\n",
    "list1.append(1)\n",
    "list1.append(2)\n",
    "list1.append(3)\n",
    "print(list1)\n",
    "\n",
    "#for循环添加列表\n",
    "list1 = []\n",
    "for i in range(0,10):\n",
    "    list1.append(i)\n",
    "print(list1)\n",
    "\n",
    "#扩展列表\n",
    "list1 = []\n",
    "list1.extend([1,2,3])\n",
    "list1.extend([4,5,6])\n",
    "print(list1)\n",
    "\n",
    "#插入列表\n",
    "list1 = []\n",
    "list1.insert(0,1)\n",
    "list1.insert(1,2)\n",
    "list1.insert(2,3)\n",
    "list1.insert(3,4)\n",
    "list1.insert(4,5)\n",
    "print(list1)\n",
    "\n",
    "#访问列表\n",
    "list1 = [1,2,3,4,5,6,7,8,9]\n",
    "print(list1[0])\n",
    "print(list1[1])\n",
    "print(list1[2])\n",
    "print(list1[-1])\n",
    "print(list1[-2])\n",
    "print(list1[-3])\n",
    "\n",
    "#列表切片\n",
    "list1 = [1,2,3,4,5,6,7,8,9]\n",
    "print(list1[1:2])\n",
    "print(list1[:2])\n",
    "print(list1[2:])\n",
    "print(list1[:])\n",
    "print(list1[::2])\n",
    "print(list1[1::2])\n",
    "print(list1[::-1])\n",
    "\n",
    "#遍历列表\n",
    "list1 = [1,2,3,4,5,6,7,8,9]\n",
    "for i in list1:\n",
    "    print(i)\n",
    "#列表推导式\n",
    "[print(i) for i in list1 if i%2==0]\n",
    "\n",
    "#更新列表\n",
    "list1 = [\"Apple\",\"Facebook\",\"Tecent\",\"Baidu\",\"Xiaomi\"]\n",
    "print(list1)\n",
    "list1[2] = \"Alibaba\"\n",
    "print(list1)\n",
    "list1[-2] = \"Microsoft\"\n",
    "print(list1)\n",
    "\n",
    "#删除列表\n",
    "list1 = [1,2,3,4,5]\n",
    "print(list1)\n",
    "list1.remove(1)\n",
    "print(list1)\n",
    "list1 = [\"Apple\",\"Facebook\",\"Tecent\",\"Baidu\",\"Xiaomi\"]\n",
    "print(list1)\n",
    "list1.remove(\"Apple\")\n",
    "print(list1)\n",
    "\n",
    "#弹出列表\n",
    "list1 = [1,2,3,4,5]\n",
    "print(list1)\n",
    "list1.pop()\n",
    "print(list1)\n",
    "list1.pop(1)\n",
    "print(list1)\n",
    "\n",
    "#清空列表\n",
    "list1 = [1,2,3,4,5]\n",
    "print(list1)\n",
    "list1.clear()\n",
    "print(list1)\n",
    "\n",
    "#删除列表\n",
    "list1 = [1,2,3,4,5]\n",
    "print(list1)\n",
    "del list1[0]\n",
    "print(list1)\n",
    "del list1\n",
    "#print(list1)\n",
    "\n",
    "#列表操作\n",
    "#统计\n",
    "list1 = [1,2,2,2,2,3,4,5]\n",
    "print(list1.count(2))\n",
    "\n",
    "#排序\n",
    "list1 = [1,2,3,4,5,6]\n",
    "list1.sort(reverse=True)\n",
    "print(list1)\n",
    "list1.sort()\n",
    "print(list1)\n",
    "\n",
    "list1 = [\"Apple\",\"Facebook\",\"Tecent\",\"Baidu\",\"Xiaomi\"]\n",
    "list1.sort()\n",
    "print(list1)\n",
    "list1.sort(reverse=True)\n",
    "print(list1)\n",
    "print(sorted(list1))\n",
    "\n",
    "#翻转\n",
    "list1 = [\"Apple\",\"Facebook\",\"Tecent\",\"Baidu\",\"Xiaomi\"]\n",
    "list1.reverse()\n",
    "print(list1)\n",
    "\n",
    "#索引\n",
    "list1 = [\"Apple\",\"Facebook\",\"Tecent\",\"Baidu\",\"Xiaomi\"]\n",
    "print(list1.index(\"Tecent\"))\n",
    "\n",
    "#拷贝\n",
    "list1 = [1,2,3,4,5]\n",
    "list2 = list1.copy()\n",
    "print(list1)\n",
    "print(list2)\n",
    "list1[2] = 100\n",
    "print(list1)\n",
    "print(list2)\n",
    "list2[3] = 200\n",
    "print(list1)\n",
    "print(list2)\n",
    "\n",
    "#拼接\n",
    "list1 = [1,2,3,4,5]\n",
    "list2 = [6,7,8,9,10]\n",
    "list3 = list1 + list2\n",
    "print(list3)\n",
    "list1.extend([list2])\n",
    "print(list1)\n",
    "\n",
    "#重复\n",
    "list1 = [1,2,3]\n",
    "print(list1 * 3)\n",
    "\n",
    "#列表运算\n",
    "#比较\n",
    "list1 = [1,2,3]\n",
    "list2 = [4,5,6]\n",
    "print(list1 == list2)\n",
    "print(list1 > list2)\n",
    "print(list1 < list2)\n",
    "\n",
    "list1 = [\"a\",\"b\",\"c\"]\n",
    "list2 = [\"d\",\"e\",\"f\"]\n",
    "print(list1 == list2)\n",
    "print(list1 > list2)\n",
    "print(list1 < list2)\n",
    "\n",
    "print([\"a\",\"b\"] == [\"a\",\"b\"] and [\"A\",\"B\"] == [\"A\",\"b\"])\n",
    "print([\"a\",\"b\"] == [\"a\",\"b\"] or [\"A\",\"B\"] == [\"A\",\"b\"])\n",
    "\n",
    "\n",
    "#判断\n",
    "list1 = [\"a\",\"b\",\"c\",\"d\"]\n",
    "print(\"a\" in list1)\n",
    "print(\"e\" in list1)\n",
    "print(\"b\" not in list1)\n",
    "print(\"e\" not in list1)\n",
    "\n",
    "\n",
    "list1 = [1,2,3]\n",
    "list2 = [1,2,3]\n",
    "list3 = list1\n",
    "print(list1)\n",
    "print(list2)\n",
    "print(list3)\n",
    "print(list1 is list2)\n",
    "print(list1 is list3)\n",
    "print(list1 == list2)\n",
    "print(list1 == list3)\n",
    "\n",
    "print(iter(list1))\n",
    "print(iter(list2))\n",
    "print(iter(list3))\n",
    "print(id(list1))\n",
    "print(id(list2))\n",
    "print(id(list3))\n",
    "\n",
    "\n",
    "list1 = [\"a\",\"b\",\"c\"]\n",
    "list2 = [\"a\",\"b\",\"c\"]\n",
    "list3 = list1\n",
    "print(list1)\n",
    "print(list2)\n",
    "print(list3)\n",
    "print(list1 is list2)\n",
    "print(list1 is list3)\n",
    "print(list1 == list2)\n",
    "print(list1 == list3)\n",
    "print(iter(list1))\n",
    "print(iter(list2))\n",
    "print(iter(list3))\n",
    "print(id(list1))\n",
    "print(id(list2))\n",
    "print(id(list3))\n",
    "\n",
    "#列表函数\n",
    "#长度\n",
    "list1 = [1,2,3,4,5,6,7,8,9]\n",
    "print(len(list1))\n",
    "\n",
    "#类型\n",
    "list1 = [1,2,3,4,5,6,7,8,9]\n",
    "print(type(list1))\n",
    "\n",
    "#转换列表\n",
    "print(list((\"a\",\"b\",\"c\",\"d\",\"e\",\"f\")))\n",
    "\n",
    "#最大值\n",
    "list1 = [1,2,3,4,5,6]\n",
    "print(max(list1))\n",
    "\n",
    "#最小值\n",
    "list1 = [1,2,3,4,5,6]\n",
    "print(min(list1))\n",
    "\n",
    "#排序\n",
    "list1 = [\"a\",\"b\",\"d\",\"1\",\"2\"]\n",
    "print(sorted(list1))\n",
    "\n",
    "#去重复\n",
    "list1 = [1,2,3,3,4,5,5,6,]\n",
    "print(set(list1))\n",
    "\n",
    "\n",
    "#列表嵌套\n",
    "list1 = [1,2,3,[4,5,6]]\n",
    "print(list1)\n",
    "print(list1[0])\n",
    "print(list1[-1])\n",
    "print(len(list1))\n",
    "\n",
    "#二维列表\n",
    "list1 = [[1,2,3],\n",
    "         [4,5,6],\n",
    "         [7,8,9]]\n",
    "print(list1)\n",
    "print(list1[0])\n",
    "print(list1[0][0])\n",
    "\n",
    "list2 = []\n",
    "for i in list1:\n",
    "    for j in i:\n",
    "        list2.append(j)\n",
    "print(list2)\n",
    "\n",
    "\n",
    "#map\n",
    "name = [\"小明\",\"小红\",\"小刚\"]\n",
    "score = [85,76,95]\n",
    "\n",
    "\n",
    "#列表推导式\n",
    "list1 = [1,2,3,4,5,6,7,8,9]\n",
    "print([i**2 for i in list1 if i%2==0])\n",
    "print([i**2 for i in list1 if i%2!=0])\n",
    "\n",
    "list2 = [i**2 for i in range(0,10)]\n",
    "print(list2)\n",
    "\n",
    "list1 = [[1,2,3],\n",
    "         [4,5,6],\n",
    "         [7,8,9]]\n",
    "\n",
    "list2 = []\n",
    "\n",
    "for i in list1:\n",
    "    for j in i:\n",
    "        list2.append(j)\n",
    "        print(list2)\n",
    "\n",
    "\n",
    "list1 = [[1,2,3],\n",
    "         [4,5,6],\n",
    "         [7,8,9]]\n",
    "list2 = [i for j in list1 for i in j]\n",
    "print(list2)\n",
    "\n",
    "\n"
   ]
  },
  {
   "cell_type": "markdown",
   "metadata": {},
   "source": [
    "明日科技公司\n",
    "\n",
    "人形具身机器人\n",
    "1、硬件\n",
    "    （1）\n",
    "    （2）\n",
    "    （3）\n",
    "    （4）\n",
    "    （5）\n",
    "    （6）\n",
    "    （7）\n",
    "    （8）\n",
    "2、软件\n",
    "    （1）\n",
    "    （2）\n",
    "    （3）\n",
    "    （4）\n",
    "    （5）\n",
    "    （6）\n",
    "    （7）\n",
    "    （8）\n"
   ]
  },
  {
   "cell_type": "code",
   "execution_count": 36,
   "metadata": {},
   "outputs": [
    {
     "name": "stdout",
     "output_type": "stream",
     "text": [
      "[[524, 219, 833], [813, 174, 918], [970, 129, 132]]\n",
      "524\t219\t833\t\n",
      "813\t174\t918\t\n",
      "970\t129\t132\t\n",
      "幸运数字是： 219\n",
      "没有幸运数字！\n"
     ]
    }
   ],
   "source": [
    "\"\"\"\n",
    "[课后作业] 第023讲：列表（V）| 课后测试题及答案\n",
    "https://fishc.com.cn/thread-175566-1-3.html\n",
    "1. 请编程找出矩阵中的幸运数字.\n",
    "说明：假设给定一个 m * n 的矩阵（矩阵中数值的取值范围是 0~1024，且各不相同），\n",
    "如果某一个元素的值在同一行的所有元素中最小，并且在同一列的所有元素中最大，那么该元素便是幸运数字。\n",
    "\n",
    "假设给定的矩阵如下：\n",
    "matrix = [[10, 36, 52],\n",
    "          [33, 24, 88],\n",
    "          [66, 76, 99]]\n",
    "          \n",
    "那么输出结果应该是 66（同时满足同一行的所有元素中最小，并且在同一列的所有元素中最大）。\n",
    "\"\"\"\n",
    "\n",
    "\n",
    "import random\n",
    "matrix = []\n",
    "\n",
    "for m in range(3):\n",
    "    matrix.append([])\n",
    "    for n in range(3):\n",
    "        matrix[m].append(random.randint(0,1024))\n",
    "print(matrix)\n",
    "\n",
    "row = len(matrix)\n",
    "col = len(matrix[0])\n",
    "\n",
    "for i in range(row):\n",
    "    for j in range(col):\n",
    "        print(matrix[i][j],end=\"\\t\")\n",
    "    print()\n",
    "\n",
    "\n",
    "min_row = [1024] * row\n",
    "max_col = [0] * col\n",
    "\n",
    "for i in range(row):\n",
    "    for j in range(col):\n",
    "        min_row[i] = matrix[i][j] if matrix[i][j] < min_row[i] else min_row[i]\n",
    "        max_col[j] = matrix[i][j] if matrix[i][j] > max_col[j] else max_col[j]\n",
    "\n",
    "for i in range(row):\n",
    "    for j in range(col):\n",
    "        if matrix[i][j] == min_row[i] and matrix[i][j] == max_col[j]:\n",
    "            print(\"幸运数字是：\",matrix[i][j])\n",
    "else:\n",
    "    print(\"没有幸运数字！\")\n",
    "#代码还有问题，需要修改\n",
    "\n"
   ]
  },
  {
   "cell_type": "code",
   "execution_count": 9,
   "metadata": {},
   "outputs": [
    {
     "name": "stdout",
     "output_type": "stream",
     "text": [
      "[2, 4, 6, 8, 10]\n",
      "[4, 8, 12, 16, 20]\n"
     ]
    }
   ],
   "source": [
    "#列表推导式\n",
    "\n",
    "s = [1,2,3,4,5]\n",
    "\n",
    "for i in range(len(s)):\n",
    "    s[i] = s[i] * 2\n",
    "print(s)\n",
    "\n",
    "s = [i * 2 for i in s]\n",
    "print(s)\n"
   ]
  },
  {
   "cell_type": "code",
   "execution_count": 27,
   "metadata": {},
   "outputs": [
    {
     "name": "stdout",
     "output_type": "stream",
     "text": [
      "2\n",
      "5\n",
      "8\n"
     ]
    }
   ],
   "source": [
    "matrix = [[1,2,3],\n",
    "          [4,5,6],\n",
    "          [7,8,9]]\n",
    "\n",
    "\n",
    "\n",
    "for row in matrix:\n",
    "    print(row[1])\n"
   ]
  },
  {
   "cell_type": "code",
   "execution_count": 28,
   "metadata": {},
   "outputs": [
    {
     "name": "stdout",
     "output_type": "stream",
     "text": [
      "[2, 5, 8]\n"
     ]
    }
   ],
   "source": [
    "matrix = [[1,2,3],\n",
    "          [4,5,6],\n",
    "          [7,8,9]]\n",
    "\n",
    "print([row[1] for row in matrix])"
   ]
  },
  {
   "cell_type": "code",
   "execution_count": 33,
   "metadata": {},
   "outputs": [
    {
     "name": "stdout",
     "output_type": "stream",
     "text": [
      "[1, 5, 9]\n"
     ]
    }
   ],
   "source": [
    "matrix = [[1,2,3],\n",
    "          [4,5,6],\n",
    "          [7,8,9]]\n",
    "\n",
    "diag = [matrix[i][i] for i in range(len(matrix))]\n",
    "\n",
    "print(diag)"
   ]
  },
  {
   "cell_type": "code",
   "execution_count": 62,
   "metadata": {},
   "outputs": [
    {
     "name": "stdout",
     "output_type": "stream",
     "text": [
      "[1, 4, 9, 16, 25, 36]\n",
      "[[0, 2], [1, 3], [2, 4], [3, 5], [4, 6], [5, 7]]\n",
      "['FF', 'ii', 'ss', 'hh', 'CC']\n",
      "[0, 5, 18]\n",
      "FishC\n",
      "['1', '2', '3']\n"
     ]
    }
   ],
   "source": [
    "#第024讲：列表（VI）| 课后测试题及答案\n",
    "#https://fishc.com.cn/thread-176229-1-3.html\n",
    "\n",
    "#0. 请使用列表推导式，创建一个内容为 [1, 4, 9, 16, 25, 36] 的列表？\n",
    "list1 = [i**2 for i in range(1,7)]\n",
    "print(list1)\n",
    "\n",
    "#1. 请使用列表推导式，创建一个内容为 [[0, 2], [1, 3], [2, 4], [3, 5], [4, 6], [5, 7]] 的列表？\n",
    "#list2 = [[i,j] for i in range(0,6) for j in range(2,8)]\n",
    "list2 = [[i,i+2] for i in range(0,6)]\n",
    "print(list2)\n",
    "\n",
    "#2. 请将下面的列表推导式转换为循环的形式实现？\n",
    "\"\"\"\n",
    "doub = [c*2 for c in \"FishC\"]\n",
    "print(doub)\n",
    "\"\"\"\n",
    "\n",
    "doub = []\n",
    "for c in \"FishC\":\n",
    "    #doub.append([c]*2)\n",
    "    doub.append(c*2)\n",
    "print(doub)\n",
    "\n",
    "#3. 请将下面的循环转换为列表推导式的形式实现？\n",
    "\"\"\"\n",
    ">>> matrix = [[1, 2, 3],\n",
    "...           [4, 5, 6],\n",
    "...           [7, 8, 9]]\n",
    ">>> diag = []\n",
    ">>> for i in range(len(matrix)):\n",
    "...     i *= matrix[i][i]\n",
    "...     diag.append(i)\n",
    "...\n",
    ">>> diag\n",
    "[0, 5, 18]\n",
    "\n",
    "\n",
    "matrix = [[1,2,3],\n",
    "          [4,5,6],\n",
    "          [7,8,9]]\n",
    "\n",
    "diag = []\n",
    "\n",
    "for i in range(len(matrix)):\n",
    "    i = i * matrix[i][i]\n",
    "    diag.append(i)\n",
    "print(diag)\n",
    "\n",
    "\n",
    "\"\"\"\n",
    "\n",
    "matrix = [[1,2,3],\n",
    "          [4,5,6],\n",
    "          [7,8,9]]\n",
    "\n",
    "diag = [i*matrix[i][i] for i in range(len(matrix))]\n",
    "print(diag)\n",
    "\n",
    "\n",
    "#4. 请问下面代码执行后，变量 x 和 y 的值分别是什么？\n",
    "#>>> x = \"FishC\"\n",
    "#>>> y = [x for x in \"123\"]\n",
    "\n",
    "x = \"FishC\"\n",
    "y = [x for x in \"123\"]\n",
    "print(x)\n",
    "print(y)\n",
    "\n",
    "\n",
    "\n",
    "\n",
    "\n"
   ]
  },
  {
   "cell_type": "code",
   "execution_count": 75,
   "metadata": {},
   "outputs": [
    {
     "name": "stdout",
     "output_type": "stream",
     "text": [
      "1\n",
      "5\n",
      "9\n",
      "[1, 5, 9]\n",
      "3\n",
      "5\n",
      "7\n",
      "3\n",
      "5\n",
      "7\n",
      "[3, 5, 7]\n",
      "[3, 5, 7]\n"
     ]
    }
   ],
   "source": [
    "#5.1. 解决一下课堂中遗留的问题吧，如何获取矩阵从左上角到右下角这条对角线上的元素？\n",
    "#5.2. 解决一下课堂中遗留的问题吧，如何获取矩阵从右上角到左下角这条对角线上的元素？\n",
    "\n",
    "matrix = [[1,2,3],\n",
    "          [4,5,6],\n",
    "          [7,8,9]]\n",
    "\n",
    "print(matrix[0][0])\n",
    "print(matrix[1][1])\n",
    "print(matrix[2][2])\n",
    "\n",
    "diag1 = [matrix[i][i] for i in range(len(matrix))]    #从左上角到右下角这条对角线\n",
    "print(diag1)\n",
    "\n",
    "\n",
    "print(matrix[0][2])\n",
    "print(matrix[1][1])\n",
    "print(matrix[2][0])\n",
    "\n",
    "print(matrix[0][-1])\n",
    "print(matrix[1][-2])\n",
    "print(matrix[2][-3])\n",
    "\n",
    "diag2 = [matrix[i][-i-1] for i in range(len(matrix))]  #从右上角到左下角这条对角线\n",
    "print(diag2)\n",
    "\n",
    "diag3 = [matrix[i][2-i] for i in range(len(matrix))]\n",
    "print(diag3)\n",
    "\n"
   ]
  },
  {
   "cell_type": "code",
   "execution_count": 94,
   "metadata": {},
   "outputs": [
    {
     "name": "stdout",
     "output_type": "stream",
     "text": [
      "[[0, 0, 0, 0, 0, 0, 0, 0, 0, 0], [0, 0, 0, 0, 0, 0, 0, 0, 0, 0], [0, 0, 0, 0, 0, 0, 0, 0, 0, 0], [0, 0, 0, 0, 0, 0, 0, 0, 0, 0], [0, 0, 0, 0, 0, 0, 0, 0, 0, 0], [0, 0, 0, 0, 0, 0, 0, 0, 0, 0], [0, 0, 0, 0, 0, 0, 0, 0, 0, 0], [0, 0, 0, 0, 0, 0, 0, 0, 0, 0], [0, 0, 0, 0, 0, 0, 0, 0, 0, 0], [0, 0, 0, 0, 0, 0, 0, 0, 0, 0]]\n",
      "[[1, 0, 0, 0, 0, 0, 0, 0, 0, 0], [1, 1, 0, 0, 0, 0, 0, 0, 0, 0], [1, 0, 1, 0, 0, 0, 0, 0, 0, 0], [1, 0, 0, 1, 0, 0, 0, 0, 0, 0], [1, 0, 0, 0, 1, 0, 0, 0, 0, 0], [1, 0, 0, 0, 0, 1, 0, 0, 0, 0], [1, 0, 0, 0, 0, 0, 1, 0, 0, 0], [1, 0, 0, 0, 0, 0, 0, 1, 0, 0], [1, 0, 0, 0, 0, 0, 0, 0, 1, 0], [1, 0, 0, 0, 0, 0, 0, 0, 0, 1]]\n",
      "[[1, 0, 0, 0, 0, 0, 0, 0, 0, 0], [1, 1, 0, 0, 0, 0, 0, 0, 0, 0], [1, 2, 1, 0, 0, 0, 0, 0, 0, 0], [1, 3, 3, 1, 0, 0, 0, 0, 0, 0], [1, 4, 6, 4, 1, 0, 0, 0, 0, 0], [1, 5, 10, 10, 5, 1, 0, 0, 0, 0], [1, 6, 15, 20, 15, 6, 1, 0, 0, 0], [1, 7, 21, 35, 35, 21, 7, 1, 0, 0], [1, 8, 28, 56, 70, 56, 28, 8, 1, 0], [1, 9, 36, 84, 126, 126, 84, 36, 9, 1]]\n",
      "1 \n",
      "1 1 \n",
      "1 2 1 \n",
      "1 3 3 1 \n",
      "1 4 6 4 1 \n",
      "1 5 10 10 5 1 \n",
      "1 6 15 20 15 6 1 \n",
      "1 7 21 35 35 21 7 1 \n",
      "1 8 28 56 70 56 28 8 1 \n",
      "1 9 36 84 126 126 84 36 9 1 \n",
      "\t \t \t \t \t 1\t\n",
      "\t \t \t \t  1\t 1\t\n",
      "\t \t \t \t 1\t2\t1\t\n",
      "\t \t \t  1\t 3\t 3\t 1\t\n",
      "\t \t \t 1\t4\t6\t4\t1\t\n",
      "\t \t  1\t 5\t 10\t 10\t 5\t 1\t\n",
      "\t \t 1\t6\t15\t20\t15\t6\t1\t\n",
      "\t  1\t 7\t 21\t 35\t 35\t 21\t 7\t 1\t\n",
      "\t 1\t8\t28\t56\t70\t56\t28\t8\t1\t\n",
      " 1\t 9\t 36\t 84\t 126\t 126\t 84\t 36\t 9\t 1\t\n"
     ]
    }
   ],
   "source": [
    "\n",
    "\"\"\"\n",
    "0. 打印杨辉三角形\n",
    "杨辉三角形是中国古代数学的杰出研究成果之一，是我国北宋数学家贾宪于 1050 年首先发现并使用的。而后南宋数学家杨辉在《详解九章算法》一书中记载并保存了“贾宪三角形“。因此，贾宪三角形又被称为杨辉三角形。\n",
    "简单地说，杨辉三角形的构成如下面动图所示：\n",
    "\n",
    "从上面的动图我们可以得出一个道公式：杨辉三角形第i行j列的值 = 第 (i-1) 行 (j-1) 列的值 + 第 (i-1) 行 (j) 列的值\n",
    "好，大家知道它的构成形式就可以开干了，千万不要以“我不懂数学，没听说过杨辉三角形”为理由放弃对本题目的挑战哦^o^\n",
    "好了，大家开拔吧！\n",
    "\"\"\"\n",
    "\n",
    "# 初始化杨辉三角形\n",
    "# 创建一个10*10的二维列表，并将所有的元素初始化为0\n",
    "tri = []\n",
    "\n",
    "for i in range(10):\n",
    "    tri.append([])\n",
    "    for j in range(10):\n",
    "        tri[i].append(0)\n",
    "print(tri)\n",
    "\n",
    "# 计算杨辉三角形\n",
    "# 根据观察，我们知道杨辉三角形左右两边的元素均为1\n",
    "for i in range(10):\n",
    "    tri[i][0] = 1\n",
    "    tri[i][i] = 1\n",
    "print(tri)\n",
    "\n",
    "# 第i行j列的值 = 第(i-1)行(j-1)列的值 + 第(i-1)行(j)列的值\n",
    "for i in range(2,10):\n",
    "    for j in range(1,i):\n",
    "        tri[i][j] = tri[i-1][j-1] + tri[i-1][j]\n",
    "print(tri)\n",
    "\n",
    "\n",
    "# 输出杨辉三角形\n",
    "\n",
    "for i in range(10):\n",
    "    for j in range(i+1):\n",
    "        print(tri[i][j],end=\" \")\n",
    "    print()\n",
    "\n",
    "\n",
    "#1. 更改杨辉三角形的打印样式\n",
    "for i in range(10):\n",
    "    for k in range((10-i)//2):\n",
    "        print(\"\\t\",end=\" \")\n",
    "    for j in range(i+1):\n",
    "        if i%2==1:\n",
    "            print(\" \",end=\"\")\n",
    "        print(tri[i][j],end=\"\\t\")\n",
    "    print()\n",
    "\n",
    "#等待更加牛逼的我"
   ]
  },
  {
   "cell_type": "code",
   "execution_count": 98,
   "metadata": {},
   "outputs": [
    {
     "name": "stdout",
     "output_type": "stream",
     "text": [
      "[[1, 1, 1], [1, 1, 1], [1, 1, 1]]\n",
      "[[1, 100, 1], [1, 100, 1], [1, 100, 1]]\n",
      "[[1, 1, 1], [1, 1, 1], [1, 1, 1]]\n",
      "[[1, 1, 1], [1, 1, 1], [1, 1, 1]]\n"
     ]
    }
   ],
   "source": [
    "#[知识点备忘] 第025讲：列表（VII）\n",
    "#https://fishc.com.cn/thread-178185-1-3.html\n",
    "\n",
    "#错误创建嵌套列表 -- 引用\n",
    "a = [[1] * 3] *3\n",
    "print(a)\n",
    "\n",
    "a[1][1] = 100\n",
    "print(a)\n",
    "\n",
    "\n",
    "#for循环创建嵌套列表\n",
    "b = [1]*3\n",
    "for i in range(3):\n",
    "    b[i] = [1]*3\n",
    "\n",
    "print(b)\n",
    "\n",
    "#列表推导式\n",
    "c = [[1]*3 for i in range(3)]\n",
    "print(c)"
   ]
  },
  {
   "cell_type": "code",
   "execution_count": 1,
   "metadata": {},
   "outputs": [
    {
     "name": "stdout",
     "output_type": "stream",
     "text": [
      "[[8, 8, 8, 8, 8], [8, 8, 8, 8, 8], [8, 8, 8, 8, 8], [8, 8, 8, 8, 8]]\n",
      "[[8, 8, 8, 8, 8], [8, 8, 8, 8, 8], [8, 8, 8, 8, 8], [8, 8, 8, 8, 8]]\n",
      "[[8, 8, 8, 8, 8], [8, 8, 8, 8, 8], [8, 8, 8, 8, 8], [8, 8, 8, 8, 8]]\n"
     ]
    }
   ],
   "source": [
    "#第025讲：列表（VII）| 课后测试题及答案\n",
    "#https://fishc.com.cn/thread-178186-1-3.html\n",
    "\n",
    "#1. 请使用列表推导式创建一个 4 * 5 的二维列表，并将每个元素初始化为数字 8。\n",
    "\n",
    "#方法一：for循环\n",
    "\n",
    "a = [8] * 4\n",
    "for i in range(4):\n",
    "    a[i] = [8]*5\n",
    "print(a)\n",
    "\n",
    "\n",
    "#方法二：for循环\n",
    "\n",
    "matrix = []\n",
    "\n",
    "for i in range(4):\n",
    "    matrix.append([])\n",
    "    for j in range(5):\n",
    "        matrix[i].append(8)\n",
    "print(matrix)\n",
    "\n",
    "\n",
    "#方法三：列表推导式\n",
    "\n",
    "list1 = [list([8]*5) for i in range(4)]\n",
    "print(list1)\n",
    "\n"
   ]
  },
  {
   "cell_type": "code",
   "execution_count": 10,
   "metadata": {},
   "outputs": [
    {
     "name": "stdout",
     "output_type": "stream",
     "text": [
      "[0.0, 1.0, 2.0, 3.0, 4.0]\n"
     ]
    }
   ],
   "source": [
    "#2. 请将下面列表推导式还原成循环语句的实现形式。\n",
    "\n",
    "#result = [i / 2 for i in range(10) if i % 2 == 0]\n",
    "\n",
    "\n",
    "result = []\n",
    "\n",
    "for i in range(10):\n",
    "    if i % 2 == 0:\n",
    "        result.append(i / 2)\n",
    "\n",
    "print(result)\n",
    "\n"
   ]
  },
  {
   "cell_type": "code",
   "execution_count": 12,
   "metadata": {},
   "outputs": [
    {
     "name": "stdout",
     "output_type": "stream",
     "text": [
      "[[0, 1], [0, 3], [0, 5], [0, 7], [0, 9], [2, 1], [2, 3], [2, 5], [2, 7], [2, 9], [4, 1], [4, 3], [4, 5], [4, 7], [4, 9], [6, 1], [6, 3], [6, 5], [6, 7], [6, 9], [8, 1], [8, 3], [8, 5], [8, 7], [8, 9]]\n"
     ]
    }
   ],
   "source": [
    "#3. 请将下面的嵌套循环语句使用列表推导式实现。\n",
    "\n",
    "\"\"\"\n",
    "result = []\n",
    "for x in range(10):\n",
    "    if x % 2 == 0:\n",
    "        for y in range(10):\n",
    "            if y % 2 != 0:\n",
    "                result.append([x, y])\n",
    "print(result)\n",
    "\"\"\"\n",
    "\n",
    "# 列表推导式实现：\n",
    "result = [[x,y] for x in range(10) if x%2 == 0 for y in range(10) if y%2!=0]\n",
    "print(result)\n"
   ]
  },
  {
   "cell_type": "code",
   "execution_count": 62,
   "metadata": {},
   "outputs": [
    {
     "name": "stdout",
     "output_type": "stream",
     "text": [
      "[9, 8, 7, 6, 5, 4, 3, 2, 1]\n",
      "[9, 8, 7, 6, 5, 4, 3, 2, 1]\n"
     ]
    }
   ],
   "source": [
    "#4. 请将下面 matrix 矩阵反向展开，即使得最终的结果为 [9, 8, 7, 6, 5, 4, 3, 2, 1]。\n",
    "matrix = [[1, 2, 3],\n",
    "          [4, 5, 6],\n",
    "          [7, 8, 9]]\n",
    "\n",
    "result = []\n",
    "for i in range(len(matrix)):\n",
    "    for j in range(len(matrix[i])):\n",
    "        result.append(matrix[i][j])\n",
    "result.reverse()\n",
    "print(result)\n",
    "\n",
    "\n",
    "list1 = [col for row in matrix for col in row][::-1]\n",
    "print(list1)\n"
   ]
  },
  {
   "cell_type": "code",
   "execution_count": 64,
   "metadata": {},
   "outputs": [
    {
     "name": "stdout",
     "output_type": "stream",
     "text": [
      "[['BLACK', 'WS'], ['BLACK', 'WM'], ['BLACK', 'WL'], ['BLACK', 'S'], ['BLACK', 'M'], ['BLACK', 'L'], ['BLACK', 'XL'], ['BLACK', '2XL'], ['BLACK', '3XL'], ['BLACK', '4XL'], ['WHITE', 'WS'], ['WHITE', 'WM'], ['WHITE', 'WL'], ['WHITE', 'S'], ['WHITE', 'M'], ['WHITE', 'L'], ['WHITE', 'XL'], ['WHITE', '2XL'], ['WHITE', '3XL'], ['WHITE', '4XL']]\n",
      "[['BLACK', 'WS'], ['BLACK', 'WM'], ['BLACK', 'WL'], ['BLACK', 'S'], ['BLACK', 'M'], ['BLACK', 'L'], ['BLACK', 'XL'], ['BLACK', '2XL'], ['BLACK', '3XL'], ['BLACK', '4XL'], ['WHITE', 'WS'], ['WHITE', 'WM'], ['WHITE', 'WL'], ['WHITE', 'S'], ['WHITE', 'M'], ['WHITE', 'L'], ['WHITE', 'XL'], ['WHITE', '2XL'], ['WHITE', '3XL'], ['WHITE', '4XL']]\n"
     ]
    }
   ],
   "source": [
    "#5. 鱼C-T恤总共提供了有 2 种颜色（\"BLACK\", \"WHITE\"）和 10 个码数（\"WS\", \"WM\", \"WL\", \"S\", \"M\", \"L\", \"XL\", \"2XL\", \"3XL\", \"4XL\"）的选择，\n",
    "# 请使用列表推导式统计所有颜色和尺码的组合（要求将每个组合使用一个内嵌的列表包含起来，如下所示）。\n",
    "\n",
    "colors = [\"BLACK\", \"WHITE\"]\n",
    "sizes = [\"WS\", \"WM\", \"WL\", \"S\", \"M\", \"L\", \"XL\", \"2XL\", \"3XL\", \"4XL\"]\n",
    "\n",
    "result1 = [[colors[i], sizes[j]] for i in range(len(colors)) for j in range(len(sizes))]\n",
    "print(result1)\n",
    "\n",
    "result2 = [[color,size] for color in colors for size in sizes]\n",
    "print(result2)\n",
    "\n",
    "\n"
   ]
  },
  {
   "cell_type": "code",
   "execution_count": 61,
   "metadata": {},
   "outputs": [
    {
     "name": "stdout",
     "output_type": "stream",
     "text": [
      "[[1, 2, 3, 4], [5, 6, 7, 8], [9, 10, 11, 12]]\n",
      "[[1, 5, 9], [2, 6, 10], [3, 7, 11], [4, 8, 12]]\n"
     ]
    }
   ],
   "source": [
    "#动动手\n",
    "#0. 请使用列表推导式，获得 matrix 矩阵的转置矩阵 Tmatrix（将 matrix 的行列互换之后得到的矩阵，称为 matrix 的转置矩阵）。\n",
    "#什么是转置矩阵？\n",
    "#一个矩阵 matrix，把它的第一行变成第一列，第二行变成第二列，……，最末一行变为最末一列，从而得到一个新的矩阵 Tmatrix。这一过程称为矩阵的转置。\n",
    "\n",
    "\n",
    "matrix = [[1,2,3,4],\n",
    "          [5,6,7,8],\n",
    "          [9,10,11,12]]\n",
    "\n",
    "print(matrix)\n",
    "\n",
    "\n",
    "Tmatrix = [[matrix[j][i] for j in range(len(matrix))] for i in range(len(matrix[0]))]\n",
    "\n",
    "print(Tmatrix)\n"
   ]
  },
  {
   "cell_type": "code",
   "execution_count": null,
   "metadata": {},
   "outputs": [],
   "source": [
    "#1. 请按照顺时针螺旋顺序输出矩阵中的所有元素。\n",
    "\n",
    "matrix = [[1,2,3,4],\n",
    "          [5,6,7,8],\n",
    "          [9,10,11,12]]\n",
    "\n",
    "\n",
    "#臣妾不会"
   ]
  },
  {
   "cell_type": "code",
   "execution_count": 16,
   "metadata": {},
   "outputs": [
    {
     "name": "stdout",
     "output_type": "stream",
     "text": [
      "(1, 2, 3, 4, 5, 6)\n"
     ]
    },
    {
     "data": {
      "text/plain": [
       "[0.04283789999317378,\n",
       " 0.04699649999383837,\n",
       " 0.034463100018911064,\n",
       " 0.04053820000262931,\n",
       " 0.03662930001155473,\n",
       " 0.035017000016523525,\n",
       " 0.039341700001386926,\n",
       " 0.023830499994801357,\n",
       " 0.02640960001735948,\n",
       " 0.029218000010587275]"
      ]
     },
     "execution_count": 16,
     "metadata": {},
     "output_type": "execute_result"
    }
   ],
   "source": [
    "#[知识点备忘] 第026讲：元组\n",
    "#https://fishc.com.cn/thread-183225-1-3.html\n",
    "\n",
    "t = (1,2,3,4,5,6)\n",
    "print(t)\n",
    "\n",
    "import timeit\n",
    "\n",
    "timeit.timeit(\"x = 123\", number=1000000)\n",
    "\n",
    "timeit.repeat(\"x = 123\",repeat=10)\n",
    "\n"
   ]
  },
  {
   "cell_type": "code",
   "execution_count": 11,
   "metadata": {},
   "outputs": [
    {
     "name": "stdout",
     "output_type": "stream",
     "text": [
      "列表平均时间： 0.08149622999946587\n",
      "元组平均时间： 0.02564551199990092\n",
      "0.7823403999791481\n",
      "0.2839618000143673\n"
     ]
    }
   ],
   "source": [
    "\n",
    "#https://fishc.com.cn/thread-183226-1-3.html\n",
    "#请编写代码，测试一下到底是创建列表的速度快，还是创建元组的速度快？为了得到更精准的数据，请重复测试 100 次，并分别计算出平均时间。\n",
    "\n",
    "#timeit -- 测量代码片段的执行时间\n",
    "\n",
    "import timeit\n",
    "\n",
    "l_speed = timeit.repeat(\"l = [1,2,3,4,5]\", repeat=100)\n",
    "t_speed = timeit.repeat(\"t = (1,2,3,4,5)\", repeat=100)\n",
    "\n",
    "l_avg = sum(l_speed) / len(l_speed)\n",
    "t_avg = sum(t_speed) / len(t_speed)\n",
    "\n",
    "print(\"列表平均时间：\",l_avg)\n",
    "print(\"元组平均时间：\",t_avg)\n",
    "\n",
    "#为什么运行这么慢，需要12s\n",
    "\n",
    "print(timeit.timeit(\"l = [1,2,3,4,5]\",number=10000000))\n",
    "print(timeit.timeit(\"t = (1,2,3,4,5)\",number=10000000))\n"
   ]
  },
  {
   "cell_type": "code",
   "execution_count": 14,
   "metadata": {},
   "outputs": [
    {
     "data": {
      "text/plain": [
       "'i am a boy'"
      ]
     },
     "execution_count": 14,
     "metadata": {},
     "output_type": "execute_result"
    }
   ],
   "source": [
    "#字符串的各种方法大合集\n",
    "\n",
    "#[知识点备忘] 第027讲：字符串（I）\n",
    "#https://fishc.com.cn/thread-185046-1-3.html\n",
    "\n",
    "x = \"I am a boy\"\n",
    "x.capitalize()\n",
    "x.casefold()"
   ]
  },
  {
   "cell_type": "code",
   "execution_count": 33,
   "metadata": {},
   "outputs": [
    {
     "data": {
      "text/plain": [
       "['12321', '13531']"
      ]
     },
     "execution_count": 33,
     "metadata": {},
     "output_type": "execute_result"
    }
   ],
   "source": [
    "#第027讲：字符串（I）| 课后测试题及答案\n",
    "#https://fishc.com.cn/thread-185047-1-3.html\n",
    "\n",
    "#5. 请使用一行代码来检测列表中的每个元素是否为回文数，并返回一个结果为回文数构成的列表。\n",
    "#提供的列表：[\"123\", \"33211\", \"12321\", \"13531\", \"112233\"]\n",
    "#返回的结果：['12321', '13531']\n",
    "\n",
    "list1 = [\"123\", \"33211\", \"12321\", \"13531\", \"112233\"]\n",
    "\n",
    "[i for i in list1 if i==i[::-1]]\n",
    "\n",
    "\n",
    "#动动手：\n",
    "#0. 请按照以下规则整理一个给定的字符串 s。\n",
    "#一个整理好的字符串中，两个相邻字符 s[j] 和 s[j+1]，其中 0 <= j <= s.length - 2，要满足如下条件：\n",
    "# - 若 s[j] 是小写字符，则 s[j+1] 不可以是相同的大写字符\n",
    "# - 若 s[j] 是大写字符，则 s[j+1] 不可以是相同的小写字符\n",
    "# - 如果 s[j] 和 s[j+1] 满足以上两个条件，则将它们一并删除\n",
    "\n",
    "\n",
    "#1. 给定的字符串 s 是按照如下规则存放的：它的偶数下标为小写英文字母，奇数下标为正整数。\n",
    "#题目要求：编写代码，将奇数下标的数字转换为相对于上一个字母偏移后的字母。\n",
    "#比如 s = \"a1b2c3\" 转换后的结果是 \"abbdcf\"（a1 -> ab，b2 -> bd，c3 -> cf）；s = \"x7y8z9\" 转换后的结果是 \"xeygzi\"（遇到最后字母 z ，则从 a 继续计算偏移）\n",
    "\n",
    "\n",
    "#为啥我看不懂题目\n",
    "\n",
    "\n"
   ]
  },
  {
   "cell_type": "code",
   "execution_count": 10,
   "metadata": {},
   "outputs": [
    {
     "name": "stdout",
     "output_type": "stream",
     "text": [
      "1\n",
      "1\n",
      "v2\n"
     ]
    }
   ],
   "source": [
    "#第028讲：字符串（II）| 课后测试题及答案\n",
    "#https://fishc.com.cn/thread-185426-1-3.html\n",
    "#动动手：\n",
    "#0. 用户输入两个版本号 v1 和 v2，请编写代码比较它们，找出较新的版本。\n",
    "#从左到右的顺序依次比较它们的修订号，点号（.）左侧的值要比右侧的权重大，即 0.1 要比 0.0.99 大。\n",
    "\n",
    "#version1 = input(\"请输入第一个版本号：v1=\")\n",
    "#version2 = input(\"请输入第二个版本号：v2=\")\n",
    "\n",
    "version1 = \"1.3\"\n",
    "version2 = \"1.2\"\n",
    "\n",
    "\n",
    "print(version1.find(\".\"))\n",
    "print(version2.find(\".\"))\n",
    "\n",
    "if version1.find(\".\") > version2.find(\".\"):\n",
    "    print(\"v1\")\n",
    "else:\n",
    "    print(\"v2\")\n",
    "\n",
    "\n",
    "#菜鸟不会\n"
   ]
  },
  {
   "cell_type": "code",
   "execution_count": null,
   "metadata": {},
   "outputs": [],
   "source": [
    "#第028讲：字符串（II）| 课后测试题及答案\n",
    "#https://fishc.com.cn/thread-185426-1-3.html\n",
    "#1. 编写一个加密程序，其实现原理是通过替换指定的字符进行加密，附加要求是实现密文逆向检测。\n",
    "\n",
    "\n",
    "plain = input(\"请输入需要加密的明文：\")\n",
    "x = input(\"请输入需要替换的字符：\")\n",
    "y = input(\"请输入将要替换的字符：\")\n",
    "\n",
    "\n",
    "\n"
   ]
  },
  {
   "cell_type": "code",
   "execution_count": null,
   "metadata": {},
   "outputs": [],
   "source": [
    "#第029讲：字符串（III）| 课后测试题及答案\n",
    "#https://fishc.com.cn/thread-185428-1-3.html\n",
    "#0. 给定一个字符串 text 和字符串列表 words，返回 words 中每个单词在 text 中的位置（要求最终的位置从小到大进行排序）。\n",
    "\n",
    "#1. 编写一个程序，判断输入的字符串是否由多个子字符串重复多次构成。\n",
    "\n",
    "\n",
    "#未完成\n"
   ]
  },
  {
   "cell_type": "code",
   "execution_count": 1,
   "metadata": {},
   "outputs": [
    {
     "name": "stdout",
     "output_type": "stream",
     "text": [
      "O Rubk loyinI\n"
     ]
    }
   ],
   "source": [
    "#第030讲：字符串（IV）| 课后测试题及答案\n",
    "#https://fishc.com.cn/thread-185988-1-3.html\n",
    "#0. 编写一个生成凯撒密码的程序来\n",
    "\n",
    "\"\"\"\n",
    "#凯撒密码最早由古罗马军事统帅盖乌斯·尤利乌斯·凯撒在军队中用来传递加密信息，故称凯撒密码。\n",
    "原理：\n",
    "凯撒密码是一种通过位移加密的方法，对 26 个（大小写）字母进行位移加密，比如下方是正向位移 6 位的字母对比表：\n",
    "\n",
    "明文字母表如下：\n",
    "ABCDEFGHIJKLMNOPQRSTUVWXYZabcdefghijklmnopqrstuvwxyz\n",
    "密文字母表如下：\n",
    "GHIJKLMNOPQRSTUVWXYZABCDEFghijklmnopqrstuvwxyzabcdef\n",
    "\n",
    "所以，如果给定加密的明文是：\n",
    "I love FishC\n",
    "那么程序加密后输出的密文便是：\n",
    "O rubk LoynI\n",
    "\n",
    "\n",
    "plain = \"ABCDEFGHIJKLMNOPQRSTUVWXYZabcdefghijklmnopqrstuvwxyz\"\n",
    "scrt = \"GHIJKLMNOPQRSTUVWXYZABCDEFghijklmnopqrstuvwxyzabcdef\"\n",
    "\n",
    "#A1 = \"ABCDEFGHIJKLMNOPQRSTUVWXYZ\"\n",
    "#a1 = \"abcdefghijklmnopqrstuvwxyz\"\n",
    "\n",
    "\n",
    "\"\"\"\n",
    "\n",
    "plain_text = input(\"请输入需要加密的明文（只支持英文字母）：\")\n",
    "shift = int(input(\"请输入移动的位数：\"))\n",
    "\n",
    "crypt_text = \"\"\n",
    "\n",
    "for char in plain_text:\n",
    "    if char.isalpha():\n",
    "        if char.isupper():\n",
    "            crypt_text += chr((ord(char) - ord(\"A\") + shift) % 26 + ord(\"A\"))\n",
    "        elif char.islower():\n",
    "            crypt_text += chr((ord(char) - ord(\"a\") + shift) % 26 + ord(\"a\"))\n",
    "        else:\n",
    "            crypt_text = char\n",
    "    else:\n",
    "        crypt_text += char\n",
    "\n",
    "print(crypt_text)\n",
    "\n",
    "\n",
    "\n",
    "\n",
    "\n",
    "\n",
    "\n"
   ]
  },
  {
   "cell_type": "code",
   "execution_count": 11,
   "metadata": {},
   "outputs": [
    {
     "name": "stdout",
     "output_type": "stream",
     "text": [
      "['Twitter', 'TOTO', 'ASL']\n"
     ]
    }
   ],
   "source": [
    "#第030讲：字符串（IV）| 课后测试题及答案\n",
    "#https://fishc.com.cn/thread-185988-1-3.html\n",
    "#1. 给定一个字符串数组 words，只返回可以使用在美式键盘同一行的字母打印出来的单词，键盘布局如下图所示。\n",
    "\n",
    "\"\"\"\n",
    "美式键盘中：\n",
    " - 第一行由字符 \"qwertyuiop\" 组成\n",
    " - 第二行由字符 \"asdfghjkl\" 组成\n",
    " - 第三行由字符 \"zxcvbnm\" 组成\n",
    "\n",
    "举例\n",
    "输入：words = [\"Twitter\", \"TOTO\", \"FishC\", \"Python\", \"ASL\"]\n",
    "输出：['Twitter', 'TOTO', 'ASL']\n",
    "\"\"\"\n",
    "\n",
    "words = [\"Twitter\", \"TOTO\", \"FishC\", \"Python\", \"ASL\"]\n",
    "\n",
    "res = []\n",
    "\n",
    "for i in words:\n",
    "    j = i.lower()\n",
    "    if j.strip(\"qwertyuiop\") == \"\" or j.strip(\"asdfghjkl\") == \"\" or j.strip(\"zxcvbnm\") == \"\":\n",
    "        res.append(i)\n",
    "print(res)\n"
   ]
  },
  {
   "cell_type": "code",
   "execution_count": 48,
   "metadata": {},
   "outputs": [
    {
     "ename": "SyntaxError",
     "evalue": "positional argument follows keyword argument (4047856551.py, line 26)",
     "output_type": "error",
     "traceback": [
      "\u001b[1;36m  Cell \u001b[1;32mIn[48], line 26\u001b[1;36m\u001b[0m\n\u001b[1;33m    \"我叫{name}，我爱{0}，喜爱{0}的人，运气都不会太差^o^\".format(name=\"小甲鱼\",\"python\")\u001b[0m\n\u001b[1;37m                                                                  ^\u001b[0m\n\u001b[1;31mSyntaxError\u001b[0m\u001b[1;31m:\u001b[0m positional argument follows keyword argument\n"
     ]
    }
   ],
   "source": [
    "#字符串格式化语法参考\n",
    "\n",
    "\"{0:#=10}{1:#<10}\".format(250,520)\n",
    "\"{:+}{:-}\".format(250,520)  #此处有bug\n",
    "\n",
    "\"{:,}\".format(1234567890)\n",
    "\"{:_}\".format(1234567890)\n",
    "\n",
    "\"{:.2f}\".format(3.1415926)\n",
    "\"{:.2g}\".format(3.1415926)\n",
    "\n",
    "\"{:.2e}\".format(3.1415926)\n",
    "\n",
    "\"{:.6}\".format(\"abcdefg\")\n",
    "\n",
    "#\"{:.6}\".format(1234567890)\n",
    "\n",
    "\"{:b}\".format(80)\n",
    "\"{:c}\".format(80)\n",
    "\"{:d}\".format(80)\n",
    "\"{:o}\".format(80)\n",
    "\"{:x}\".format(80)\n",
    "\n",
    "\"{:#b}\".format(80)\n",
    "\n",
    "\"我叫{name}，我爱{0}，喜爱{0}的人，运气都不会太差^o^\".format(name=\"小甲鱼\",\"python\")"
   ]
  },
  {
   "cell_type": "code",
   "execution_count": 52,
   "metadata": {},
   "outputs": [
    {
     "name": "stdout",
     "output_type": "stream",
     "text": [
      "1\n"
     ]
    }
   ],
   "source": [
    "#第031讲：字符串（V）| 课后测试题及答案\n",
    "#https://fishc.com.cn/thread-189146-1-3.html\n",
    "#0. 请编写一个程序，统计字符串中的单词个数（“单词”以空格进行分隔）\n",
    "\n",
    "text = input(\"输入：\")\n",
    "\n",
    "\"\"\"\n",
    "if text[0] == \" \":\n",
    "    count = 0\n",
    "else:\n",
    "    for each in text:\n",
    "        count += 1\n",
    "print(\"输出：\", count-1)\n",
    "\n",
    "\"\"\"\n",
    "\n",
    "\n",
    "print(len(text.split()))"
   ]
  },
  {
   "cell_type": "code",
   "execution_count": null,
   "metadata": {},
   "outputs": [],
   "source": [
    "#第032讲：字符串（VI）| 课后测试题及答案\n",
    "#https://fishc.com.cn/forum.php?mod=viewthread&tid=190734\n",
    "#0. 相信大家对于压缩和解压缩的操作并不陌生，但对其内部的实现原理，你又知道多少呢？\n",
    "#1. 请大家编写一个解压程序，将上一题压缩后的字符串进行解压缩。\n",
    "\"\"\"\n",
    "接下来请大家跟着题目的提示，一起来实现字符串的压缩和解压缩吧。\n",
    "利用字符重复出现的次数，编写一个程序，实现基本的字符串压缩功能。比如，字符串 FFiiiisshCCCCCC 压缩后变成 F2i4s2h1C6（15字符 -> 10字符，66% 压缩率）。\n",
    "这种朴素的压缩算法并不总是理想的，比如 FFishCC 压缩后反而变长了 F2i1s1h1C2，这可就不是我们想要的了，所以对于重复次数小于 3 的字符，我们的程序应该选择不对其进行压缩。\n",
    "\n",
    "\"\"\"\n",
    "\n",
    "s = input(\"请输入待压缩字符串：\")\n",
    "\n",
    "ch = s[0]\n",
    "result =\"\"\n",
    "count = 0\n",
    "\n",
    "for each in s:\n",
    "    if each == ch:\n",
    "        count += 1\n",
    "    else:\n",
    "        if count > 2:\n",
    "            result += ch + str(count)\n",
    "        elif count == 2:\n",
    "            result += ch + ch\n",
    "        elif count == 1:\n",
    "            result += ch\n",
    "        ch = each\n",
    "        count = 1\n",
    "\n",
    "\n",
    "\n",
    "#未完成"
   ]
  },
  {
   "cell_type": "code",
   "execution_count": null,
   "metadata": {},
   "outputs": [],
   "source": [
    "#第033讲：序列（上）| 课后测试题及答案\n",
    "#https://fishc.com.cn/thread-190848-1-3.html\n",
    "#0. 判断子序列\n",
    "#给定字符串 s 和 t ，请编程判断 s 是否为 t 的子序列。\n",
    "#字符串的子序列是原始字符串删除一些（也可以不删除）字符而不改变剩余字符相对位置形成的新字符串（例如，\"ace\" 是 \"abcde\" 的子序列，而 \"aec\" 则不是）。"
   ]
  },
  {
   "cell_type": "code",
   "execution_count": 60,
   "metadata": {},
   "outputs": [
    {
     "name": "stdout",
     "output_type": "stream",
     "text": [
      "[1, 7, 3, 5]\n",
      "[8, 6, 4, 2]\n",
      "[1, 3, 5, 7, 2, 4, 6, 8]\n"
     ]
    }
   ],
   "source": [
    "#第034讲：序列（中）| 课后测试题及答案\n",
    "#https://fishc.com.cn/thread-191252-1-4.html\n",
    "#0. 给定一个整数列表，请编程来调整该列表中整数的顺序，使得所有奇数排好序后放在数组的前半部分，所有偶数排好序后放在数组的后半部分。\n",
    "#比如给定的整数列表是 [1, 8, 7, 3, 6, 5, 4, 2]，那么调整后的结果应该是 [1, 3, 5, 7, 2, 4, 6, 8]。\n",
    "\n",
    "s = [1, 8, 7, 3, 6, 5, 4, 2]\n",
    "target1 = []\n",
    "target2 = []\n",
    "\n",
    "for each in s:\n",
    "    if each%2!=0:\n",
    "        target1.append(each)\n",
    "    elif each%2==0:\n",
    "        target2.append(each)\n",
    "sorted(target1)\n",
    "print(target1)\n",
    "sorted(target2)\n",
    "print(target2)\n",
    "print(sorted(target1)+sorted(target2))\n"
   ]
  },
  {
   "cell_type": "code",
   "execution_count": 67,
   "metadata": {},
   "outputs": [
    {
     "ename": "SyntaxError",
     "evalue": "invalid syntax (1486652192.py, line 16)",
     "output_type": "error",
     "traceback": [
      "\u001b[1;36m  Cell \u001b[1;32mIn[67], line 16\u001b[1;36m\u001b[0m\n\u001b[1;33m    print(\" \".join.(list(text.strip().split().reverse())))\u001b[0m\n\u001b[1;37m                   ^\u001b[0m\n\u001b[1;31mSyntaxError\u001b[0m\u001b[1;31m:\u001b[0m invalid syntax\n"
     ]
    }
   ],
   "source": [
    "#第034讲：序列（中）| 课后测试题及答案\n",
    "#https://fishc.com.cn/thread-191252-1-4.html\n",
    "#1. 翻转单词顺序。\n",
    "#用户输入一个英文句子，请编程翻转句子中单词的顺序，但单词内字符的顺序不变。为简单起见，标点符号和普通字母一样处理。\n",
    "#例如输入字符串是 \"I love FishC.\"，则输出 \"FishC. love I\"。\n",
    "#注意1：用户输入的字符串可能会在前面或者后面包含任意数量的空格，但是反转后的结果将会去除这些空格（例如输入字符串是 \"   I love FishC.   \"，结果依然输出 \"FishC. love I\"）。\n",
    "#注意2：用户输入的字符串中，单词之间可能不止一个空格，但是反转后的结果将统一使用一个空格作为单词之间的间隔（例如输入字符串是 \"I   love        FishC.\"，结果依然输出 \"FishC. love I\"）\n",
    "\n",
    "text = \"I Love FishC.\"\n",
    "\n",
    "target = \" \".join(text.split()[::-1])\n",
    "print(target)\n",
    "\n",
    "\n",
    "\n",
    "\n"
   ]
  }
 ],
 "metadata": {
  "kernelspec": {
   "display_name": "Python 3",
   "language": "python",
   "name": "python3"
  },
  "language_info": {
   "codemirror_mode": {
    "name": "ipython",
    "version": 3
   },
   "file_extension": ".py",
   "mimetype": "text/x-python",
   "name": "python",
   "nbconvert_exporter": "python",
   "pygments_lexer": "ipython3",
   "version": "3.12.2"
  }
 },
 "nbformat": 4,
 "nbformat_minor": 2
}
