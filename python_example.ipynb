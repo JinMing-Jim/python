{
 "cells": [
  {
   "cell_type": "code",
   "execution_count": 47,
   "metadata": {},
   "outputs": [
    {
     "name": "stdout",
     "output_type": "stream",
     "text": [
      "False\n",
      "None\n",
      "True\n",
      "and\n",
      "as\n",
      "assert\n",
      "async\n",
      "await\n",
      "break\n",
      "class\n",
      "continue\n",
      "def\n",
      "del\n",
      "elif\n",
      "else\n",
      "except\n",
      "finally\n",
      "for\n",
      "from\n",
      "global\n",
      "if\n",
      "import\n",
      "in\n",
      "is\n",
      "lambda\n",
      "nonlocal\n",
      "not\n",
      "or\n",
      "pass\n",
      "raise\n",
      "return\n",
      "try\n",
      "while\n",
      "with\n",
      "yield\n"
     ]
    }
   ],
   "source": [
    "#Python keyword\n",
    "\n",
    "import keyword\n",
    "for each in keyword.kwlist:\n",
    "    print(each)"
   ]
  },
  {
   "cell_type": "markdown",
   "metadata": {},
   "source": [
    "#Python keyword list\n",
    "\n",
    "False\n",
    "True\n",
    "\n",
    "if\n",
    "elif\n",
    "else\n",
    "\n",
    "while\n",
    "for\n",
    "\n",
    "break\n",
    "continue\n",
    "\n",
    "and\n",
    "or\n",
    "not\n",
    "\n",
    "import\n",
    "\n",
    "assert\n",
    "try\n",
    "except\n",
    "\n",
    "pass\n",
    "raise\n",
    "await\n",
    "async\n",
    "\n",
    "\n",
    "def\n",
    "global\n",
    "from\n",
    "with\n",
    "in\n",
    "is\n",
    "as\n",
    "\n",
    "None\n",
    "nonlocal\n",
    "\n",
    "del\n",
    "\n",
    "return\n",
    "\n",
    "class\n",
    "\n",
    "finally\n",
    "\n",
    "lambda\n",
    "yield\n"
   ]
  },
  {
   "cell_type": "code",
   "execution_count": 19,
   "metadata": {},
   "outputs": [
    {
     "name": "stdout",
     "output_type": "stream",
     "text": [
      "D\n"
     ]
    }
   ],
   "source": [
    "\"\"\"\n",
    "编写一个成绩评级程序，要求用户输入分数，程序返回对应的评级\n",
    " - 分数 < 60，D\n",
    " - 60 <= 分数 < 80，C\n",
    " - 80 <= 分数 < 90，B\n",
    " - 90 <= 分数 < 100，A\n",
    " - 分数 == 100，S\n",
    "\"\"\"\n",
    "score = int(input(\"请输入分数：\"))\n",
    "\n",
    "if score < 60:\n",
    "    print(\"D\")\n",
    "elif 60 <= score < 80:\n",
    "    print(\"C\")\n",
    "elif 80 <= score < 90:\n",
    "    print(\"B\")\n",
    "elif 90 <=score < 100:\n",
    "    print(\"A\")\n",
    "elif score == 100:\n",
    "    print(\"S\")\n",
    "else:\n",
    "    print(\"输入错误！\")"
   ]
  },
  {
   "cell_type": "code",
   "execution_count": 20,
   "metadata": {},
   "outputs": [
    {
     "name": "stdout",
     "output_type": "stream",
     "text": [
      "18446744073709551615\n"
     ]
    }
   ],
   "source": [
    "\"\"\"\n",
    "<<舍罕王的失算>>\n",
    "相传国际象棋是古印度舍罕王的宰相达依尔发明的。\n",
    "舍罕王十分喜爱国际象棋，便决定让宰相自己选择何种赏赐。\n",
    "这位聪明的宰相指着 8×8 共 64 格的象棋棋盘说：陛下，请您赏给我一些麦子吧。\n",
    "就在棋盘的第 1 格中放 1 粒，第 2 格放 2 粒，第 3 格放 4 粒，\n",
    "以后每一格都比前一格增加一倍，依此放完棋盘上 64 格，我就感激不尽了……\n",
    "舍罕王听了达依尔这个“小小”的要求，便让人扛来一袋麦子，他要兑现许诺。\n",
    "结果，在给达依尔发放麦子时，舍罕王发现他要给达依尔的麦子比自己想象的要多得多，\n",
    "一袋麦子是远远不够的……\n",
    "\n",
    "请编程计算舍罕王应该给达依尔多少粒麦子？\n",
    "\"\"\"\n",
    "\n",
    "sum = 0\n",
    "\n",
    "for i in range(1,8*8+1):\n",
    "    sum += pow(2,i-1)\n",
    "print(sum)\n"
   ]
  },
  {
   "cell_type": "code",
   "execution_count": 21,
   "metadata": {},
   "outputs": [
    {
     "name": "stdout",
     "output_type": "stream",
     "text": [
      "5050\n"
     ]
    }
   ],
   "source": [
    "#求和1+2+3+...+100\n",
    "sum = 0\n",
    "for i in range(1,101):\n",
    "    sum += i\n",
    "print(sum)"
   ]
  },
  {
   "cell_type": "code",
   "execution_count": 22,
   "metadata": {},
   "outputs": [
    {
     "name": "stdout",
     "output_type": "stream",
     "text": [
      "1 * 1 = 1\t\n",
      "1 * 2 = 2\t2 * 2 = 4\t\n",
      "1 * 3 = 3\t2 * 3 = 6\t3 * 3 = 9\t\n",
      "1 * 4 = 4\t2 * 4 = 8\t3 * 4 = 12\t4 * 4 = 16\t\n",
      "1 * 5 = 5\t2 * 5 = 10\t3 * 5 = 15\t4 * 5 = 20\t5 * 5 = 25\t\n",
      "1 * 6 = 6\t2 * 6 = 12\t3 * 6 = 18\t4 * 6 = 24\t5 * 6 = 30\t6 * 6 = 36\t\n",
      "1 * 7 = 7\t2 * 7 = 14\t3 * 7 = 21\t4 * 7 = 28\t5 * 7 = 35\t6 * 7 = 42\t7 * 7 = 49\t\n",
      "1 * 8 = 8\t2 * 8 = 16\t3 * 8 = 24\t4 * 8 = 32\t5 * 8 = 40\t6 * 8 = 48\t7 * 8 = 56\t8 * 8 = 64\t\n",
      "1 * 9 = 9\t2 * 9 = 18\t3 * 9 = 27\t4 * 9 = 36\t5 * 9 = 45\t6 * 9 = 54\t7 * 9 = 63\t8 * 9 = 72\t9 * 9 = 81\t\n"
     ]
    }
   ],
   "source": [
    "#打印九九乘法口诀表\n",
    "for i in range(1,10):\n",
    "    for j in range(1,i+1):\n",
    "        print(j,\"*\",i,\"=\",j*i,end=\"\\t\")\n",
    "    print()"
   ]
  },
  {
   "cell_type": "code",
   "execution_count": 35,
   "metadata": {},
   "outputs": [
    {
     "name": "stdout",
     "output_type": "stream",
     "text": [
      "2 3 5 7 11 13 17 19 23 29 31 37 41 43 47 53 59 61 67 71 73 79 83 89 97 "
     ]
    }
   ],
   "source": [
    "#求100以内质数\n",
    "\n",
    "\n",
    "for num in range(2,100):\n",
    "    for i in range(2,num):\n",
    "        if num % i == 0:\n",
    "            break\n",
    "    else:\n",
    "        print(num,end=\" \")\n",
    "\n",
    "\n"
   ]
  },
  {
   "cell_type": "code",
   "execution_count": 24,
   "metadata": {},
   "outputs": [
    {
     "name": "stdout",
     "output_type": "stream",
     "text": [
      "[1, 2, 3, [4, 5, 6]]\n",
      "[1, 2, 3, [4, 5, 6]]\n",
      "[1, 2, 3, 100]\n",
      "[1, 2, 3, 100]\n"
     ]
    }
   ],
   "source": [
    "#1)引用\n",
    "a = [1,2,3,[4,5,6]]\n",
    "b = a\n",
    "print(a)\n",
    "print(b)\n",
    "\n",
    "a[3] = 100\n",
    "\n",
    "print(a)\n",
    "print(b)"
   ]
  },
  {
   "cell_type": "code",
   "execution_count": 25,
   "metadata": {},
   "outputs": [
    {
     "name": "stdout",
     "output_type": "stream",
     "text": [
      "[1, 2, 3, [4, 5, 6]]\n",
      "[1, 2, 3, [4, 5, 6]]\n",
      "[1, 2, 3, 100]\n",
      "[1, 2, 3, [4, 5, 6]]\n"
     ]
    }
   ],
   "source": [
    "#2)浅拷贝Copy\n",
    "a = [1,2,3,[4,5,6]]\n",
    "b = a.copy()\n",
    "print(a)\n",
    "print(b)\n",
    "\n",
    "a[3] = 100\n",
    "\n",
    "print(a)\n",
    "print(b)\n"
   ]
  },
  {
   "cell_type": "code",
   "execution_count": 26,
   "metadata": {},
   "outputs": [
    {
     "name": "stdout",
     "output_type": "stream",
     "text": [
      "[1, 2, 3, [4, 5, 6]]\n",
      "[1, 2, 3, [4, 5, 6]]\n",
      "[1, 2, 3, 100]\n",
      "[1, 2, 3, [4, 5, 6]]\n"
     ]
    }
   ],
   "source": [
    "#3)Copy模块 - 浅拷贝 - shallow copy\n",
    "import copy\n",
    "a = [1,2,3,[4,5,6]]\n",
    "b = copy.copy(a)\n",
    "print(a)\n",
    "print(b)\n",
    "\n",
    "a[3] = 100\n",
    "\n",
    "print(a)\n",
    "print(b)"
   ]
  },
  {
   "cell_type": "code",
   "execution_count": 27,
   "metadata": {},
   "outputs": [
    {
     "name": "stdout",
     "output_type": "stream",
     "text": [
      "[1, 2, 3, [4, 5, 6]]\n",
      "[1, 2, 3, [4, 5, 6]]\n",
      "[1, 2, 3, 100]\n",
      "[1, 2, 3, [4, 5, 6]]\n"
     ]
    }
   ],
   "source": [
    "#4)Copy模块 - 深拷贝 - deep copy\n",
    "import copy\n",
    "a = [1,2,3,[4,5,6]]\n",
    "b = copy.deepcopy(a)\n",
    "print(a)\n",
    "print(b)\n",
    "\n",
    "a[3] = 100\n",
    "\n",
    "print(a)\n",
    "print(b)"
   ]
  }
 ],
 "metadata": {
  "kernelspec": {
   "display_name": "Python 3",
   "language": "python",
   "name": "python3"
  },
  "language_info": {
   "codemirror_mode": {
    "name": "ipython",
    "version": 3
   },
   "file_extension": ".py",
   "mimetype": "text/x-python",
   "name": "python",
   "nbconvert_exporter": "python",
   "pygments_lexer": "ipython3",
   "version": "3.12.2"
  }
 },
 "nbformat": 4,
 "nbformat_minor": 2
}
